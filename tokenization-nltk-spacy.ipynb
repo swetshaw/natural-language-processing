{
 "cells": [
  {
   "cell_type": "markdown",
   "metadata": {},
   "source": [
    "# NLTK"
   ]
  },
  {
   "cell_type": "code",
   "execution_count": 1,
   "metadata": {},
   "outputs": [
    {
     "name": "stdout",
     "output_type": "stream",
     "text": [
      "showing info https://raw.githubusercontent.com/nltk/nltk_data/gh-pages/index.xml\n"
     ]
    },
    {
     "data": {
      "text/plain": [
       "True"
      ]
     },
     "execution_count": 1,
     "metadata": {},
     "output_type": "execute_result"
    }
   ],
   "source": [
    "import nltk\n",
    "nltk.download()"
   ]
  },
  {
   "cell_type": "code",
   "execution_count": 2,
   "metadata": {},
   "outputs": [],
   "source": [
    "paragraph = \"\"\"Global warming is a hike in the average global temperature on earth. Burning of excess fossil fuel and the release of toxic fumes into the atmosphere is the major cause behind global warming. Global warming can have disastrous effects on living organisms. The impacts of global warming are widespread and unspecific. Some areas experience a sudden rise in the temperature while others witness a sudden fall in it. \n",
    "The major reason for global warming is the burning of fossil fuel for energy. It has been noted that the average temperature on the earth has increased by 1.5 degrees Celsius in the past decade. This is a reason for worry as it can damage ecosystems and might result in the disruption of the environment. Global warming can be checked if we take concrete steps towards restoring the lost vegetation in our forests. We can also use clean energy sources like wind energy, solar energy, and tidal energy to check the rise in global warming.\"\"\""
   ]
  },
  {
   "cell_type": "code",
   "execution_count": 3,
   "metadata": {},
   "outputs": [],
   "source": [
    "# tokenize sentences\n",
    "sent_tokens = nltk.sent_tokenize(paragraph)"
   ]
  },
  {
   "cell_type": "code",
   "execution_count": 4,
   "metadata": {},
   "outputs": [
    {
     "data": {
      "text/plain": [
       "['Global warming is a hike in the average global temperature on earth.',\n",
       " 'Burning of excess fossil fuel and the release of toxic fumes into the atmosphere is the major cause behind global warming.',\n",
       " 'Global warming can have disastrous effects on living organisms.',\n",
       " 'The impacts of global warming are widespread and unspecific.',\n",
       " 'Some areas experience a sudden rise in the temperature while others witness a sudden fall in it.',\n",
       " 'The major reason for global warming is the burning of fossil fuel for energy.',\n",
       " 'It has been noted that the average temperature on the earth has increased by 1.5 degrees Celsius in the past decade.',\n",
       " 'This is a reason for worry as it can damage ecosystems and might result in the disruption of the environment.',\n",
       " 'Global warming can be checked if we take concrete steps towards restoring the lost vegetation in our forests.',\n",
       " 'We can also use clean energy sources like wind energy, solar energy, and tidal energy to check the rise in global warming.']"
      ]
     },
     "execution_count": 4,
     "metadata": {},
     "output_type": "execute_result"
    }
   ],
   "source": [
    "sent_tokens"
   ]
  },
  {
   "cell_type": "code",
   "execution_count": 5,
   "metadata": {},
   "outputs": [
    {
     "data": {
      "text/plain": [
       "10"
      ]
     },
     "execution_count": 5,
     "metadata": {},
     "output_type": "execute_result"
    }
   ],
   "source": [
    "len(sent_tokens)"
   ]
  },
  {
   "cell_type": "code",
   "execution_count": 6,
   "metadata": {},
   "outputs": [],
   "source": [
    "# tokenize words\n",
    "word_tokens = nltk.word_tokenize(paragraph)"
   ]
  },
  {
   "cell_type": "code",
   "execution_count": 7,
   "metadata": {},
   "outputs": [
    {
     "data": {
      "text/plain": [
       "['Global',\n",
       " 'warming',\n",
       " 'is',\n",
       " 'a',\n",
       " 'hike',\n",
       " 'in',\n",
       " 'the',\n",
       " 'average',\n",
       " 'global',\n",
       " 'temperature',\n",
       " 'on',\n",
       " 'earth',\n",
       " '.',\n",
       " 'Burning',\n",
       " 'of',\n",
       " 'excess',\n",
       " 'fossil',\n",
       " 'fuel',\n",
       " 'and',\n",
       " 'the',\n",
       " 'release',\n",
       " 'of',\n",
       " 'toxic',\n",
       " 'fumes',\n",
       " 'into',\n",
       " 'the',\n",
       " 'atmosphere',\n",
       " 'is',\n",
       " 'the',\n",
       " 'major',\n",
       " 'cause',\n",
       " 'behind',\n",
       " 'global',\n",
       " 'warming',\n",
       " '.',\n",
       " 'Global',\n",
       " 'warming',\n",
       " 'can',\n",
       " 'have',\n",
       " 'disastrous',\n",
       " 'effects',\n",
       " 'on',\n",
       " 'living',\n",
       " 'organisms',\n",
       " '.',\n",
       " 'The',\n",
       " 'impacts',\n",
       " 'of',\n",
       " 'global',\n",
       " 'warming',\n",
       " 'are',\n",
       " 'widespread',\n",
       " 'and',\n",
       " 'unspecific',\n",
       " '.',\n",
       " 'Some',\n",
       " 'areas',\n",
       " 'experience',\n",
       " 'a',\n",
       " 'sudden',\n",
       " 'rise',\n",
       " 'in',\n",
       " 'the',\n",
       " 'temperature',\n",
       " 'while',\n",
       " 'others',\n",
       " 'witness',\n",
       " 'a',\n",
       " 'sudden',\n",
       " 'fall',\n",
       " 'in',\n",
       " 'it',\n",
       " '.',\n",
       " 'The',\n",
       " 'major',\n",
       " 'reason',\n",
       " 'for',\n",
       " 'global',\n",
       " 'warming',\n",
       " 'is',\n",
       " 'the',\n",
       " 'burning',\n",
       " 'of',\n",
       " 'fossil',\n",
       " 'fuel',\n",
       " 'for',\n",
       " 'energy',\n",
       " '.',\n",
       " 'It',\n",
       " 'has',\n",
       " 'been',\n",
       " 'noted',\n",
       " 'that',\n",
       " 'the',\n",
       " 'average',\n",
       " 'temperature',\n",
       " 'on',\n",
       " 'the',\n",
       " 'earth',\n",
       " 'has',\n",
       " 'increased',\n",
       " 'by',\n",
       " '1.5',\n",
       " 'degrees',\n",
       " 'Celsius',\n",
       " 'in',\n",
       " 'the',\n",
       " 'past',\n",
       " 'decade',\n",
       " '.',\n",
       " 'This',\n",
       " 'is',\n",
       " 'a',\n",
       " 'reason',\n",
       " 'for',\n",
       " 'worry',\n",
       " 'as',\n",
       " 'it',\n",
       " 'can',\n",
       " 'damage',\n",
       " 'ecosystems',\n",
       " 'and',\n",
       " 'might',\n",
       " 'result',\n",
       " 'in',\n",
       " 'the',\n",
       " 'disruption',\n",
       " 'of',\n",
       " 'the',\n",
       " 'environment',\n",
       " '.',\n",
       " 'Global',\n",
       " 'warming',\n",
       " 'can',\n",
       " 'be',\n",
       " 'checked',\n",
       " 'if',\n",
       " 'we',\n",
       " 'take',\n",
       " 'concrete',\n",
       " 'steps',\n",
       " 'towards',\n",
       " 'restoring',\n",
       " 'the',\n",
       " 'lost',\n",
       " 'vegetation',\n",
       " 'in',\n",
       " 'our',\n",
       " 'forests',\n",
       " '.',\n",
       " 'We',\n",
       " 'can',\n",
       " 'also',\n",
       " 'use',\n",
       " 'clean',\n",
       " 'energy',\n",
       " 'sources',\n",
       " 'like',\n",
       " 'wind',\n",
       " 'energy',\n",
       " ',',\n",
       " 'solar',\n",
       " 'energy',\n",
       " ',',\n",
       " 'and',\n",
       " 'tidal',\n",
       " 'energy',\n",
       " 'to',\n",
       " 'check',\n",
       " 'the',\n",
       " 'rise',\n",
       " 'in',\n",
       " 'global',\n",
       " 'warming',\n",
       " '.']"
      ]
     },
     "execution_count": 7,
     "metadata": {},
     "output_type": "execute_result"
    }
   ],
   "source": [
    "word_tokens"
   ]
  },
  {
   "cell_type": "code",
   "execution_count": 8,
   "metadata": {},
   "outputs": [
    {
     "data": {
      "text/plain": [
       "175"
      ]
     },
     "execution_count": 8,
     "metadata": {},
     "output_type": "execute_result"
    }
   ],
   "source": [
    "len(word_tokens)"
   ]
  },
  {
   "cell_type": "markdown",
   "metadata": {},
   "source": [
    "# spaCy"
   ]
  },
  {
   "cell_type": "code",
   "execution_count": 9,
   "metadata": {},
   "outputs": [],
   "source": [
    "# tokenization using spaCy\n",
    "import spacy"
   ]
  },
  {
   "cell_type": "code",
   "execution_count": 10,
   "metadata": {},
   "outputs": [],
   "source": [
    "nlp = spacy.load('en_core_web_sm')\n",
    "tokens = nlp(paragraph)"
   ]
  },
  {
   "cell_type": "code",
   "execution_count": 16,
   "metadata": {},
   "outputs": [
    {
     "name": "stdout",
     "output_type": "stream",
     "text": [
      "Global              \n",
      "warming             \n",
      "is                  \n",
      "a                   \n",
      "hike                \n",
      "in                  \n",
      "the                 \n",
      "average             \n",
      "global              \n",
      "temperature         \n",
      "on                  \n",
      "earth               \n",
      ".                   \n",
      "Burning             \n",
      "of                  \n",
      "excess              \n",
      "fossil              \n",
      "fuel                \n",
      "and                 \n",
      "the                 \n",
      "release             \n",
      "of                  \n",
      "toxic               \n",
      "fumes               \n",
      "into                \n",
      "the                 \n",
      "atmosphere          \n",
      "is                  \n",
      "the                 \n",
      "major               \n",
      "cause               \n",
      "behind              \n",
      "global              \n",
      "warming             \n",
      ".                   \n",
      "Global              \n",
      "warming             \n",
      "can                 \n",
      "have                \n",
      "disastrous          \n",
      "effects             \n",
      "on                  \n",
      "living              \n",
      "organisms           \n",
      ".                   \n",
      "The                 \n",
      "impacts             \n",
      "of                  \n",
      "global              \n",
      "warming             \n",
      "are                 \n",
      "widespread          \n",
      "and                 \n",
      "unspecific          \n",
      ".                   \n",
      "Some                \n",
      "areas               \n",
      "experience          \n",
      "a                   \n",
      "sudden              \n",
      "rise                \n",
      "in                  \n",
      "the                 \n",
      "temperature         \n",
      "while               \n",
      "others              \n",
      "witness             \n",
      "a                   \n",
      "sudden              \n",
      "fall                \n",
      "in                  \n",
      "it                  \n",
      ".                   \n",
      "\n",
      "                   \n",
      "The                 \n",
      "major               \n",
      "reason              \n",
      "for                 \n",
      "global              \n",
      "warming             \n",
      "is                  \n",
      "the                 \n",
      "burning             \n",
      "of                  \n",
      "fossil              \n",
      "fuel                \n",
      "for                 \n",
      "energy              \n",
      ".                   \n",
      "It                  \n",
      "has                 \n",
      "been                \n",
      "noted               \n",
      "that                \n",
      "the                 \n",
      "average             \n",
      "temperature         \n",
      "on                  \n",
      "the                 \n",
      "earth               \n",
      "has                 \n",
      "increased           \n",
      "by                  \n",
      "1.5                 \n",
      "degrees             \n",
      "Celsius             \n",
      "in                  \n",
      "the                 \n",
      "past                \n",
      "decade              \n",
      ".                   \n",
      "This                \n",
      "is                  \n",
      "a                   \n",
      "reason              \n",
      "for                 \n",
      "worry               \n",
      "as                  \n",
      "it                  \n",
      "can                 \n",
      "damage              \n",
      "ecosystems          \n",
      "and                 \n",
      "might               \n",
      "result              \n",
      "in                  \n",
      "the                 \n",
      "disruption          \n",
      "of                  \n",
      "the                 \n",
      "environment         \n",
      ".                   \n",
      "Global              \n",
      "warming             \n",
      "can                 \n",
      "be                  \n",
      "checked             \n",
      "if                  \n",
      "we                  \n",
      "take                \n",
      "concrete            \n",
      "steps               \n",
      "towards             \n",
      "restoring           \n",
      "the                 \n",
      "lost                \n",
      "vegetation          \n",
      "in                  \n",
      "our                 \n",
      "forests             \n",
      ".                   \n",
      "We                  \n",
      "can                 \n",
      "also                \n",
      "use                 \n",
      "clean               \n",
      "energy              \n",
      "sources             \n",
      "like                \n",
      "wind                \n",
      "energy              \n",
      ",                   \n",
      "solar               \n",
      "energy              \n",
      ",                   \n",
      "and                 \n",
      "tidal               \n",
      "energy              \n",
      "to                  \n",
      "check               \n",
      "the                 \n",
      "rise                \n",
      "in                  \n",
      "global              \n",
      "warming             \n",
      ".                   \n"
     ]
    }
   ],
   "source": [
    "for token in tokens:\n",
    "    print(f\"{token.text:{20}}\")"
   ]
  },
  {
   "cell_type": "code",
   "execution_count": 17,
   "metadata": {},
   "outputs": [
    {
     "data": {
      "text/plain": [
       "176"
      ]
     },
     "execution_count": 17,
     "metadata": {},
     "output_type": "execute_result"
    }
   ],
   "source": [
    "len(tokens)"
   ]
  },
  {
   "cell_type": "code",
   "execution_count": null,
   "metadata": {},
   "outputs": [],
   "source": []
  }
 ],
 "metadata": {
  "kernelspec": {
   "display_name": "Python 3",
   "language": "python",
   "name": "python3"
  },
  "language_info": {
   "codemirror_mode": {
    "name": "ipython",
    "version": 3
   },
   "file_extension": ".py",
   "mimetype": "text/x-python",
   "name": "python",
   "nbconvert_exporter": "python",
   "pygments_lexer": "ipython3",
   "version": "3.8.3"
  }
 },
 "nbformat": 4,
 "nbformat_minor": 4
}
